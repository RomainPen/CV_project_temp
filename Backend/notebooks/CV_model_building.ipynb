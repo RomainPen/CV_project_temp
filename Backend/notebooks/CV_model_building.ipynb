{
  "cells": [
    {
      "cell_type": "code",
      "source": [
        "from google.colab import drive\n",
        "drive.mount('/content/drive')"
      ],
      "metadata": {
        "colab": {
          "base_uri": "https://localhost:8080/"
        },
        "id": "LjWf1wQuLzJx",
        "outputId": "5b091a31-36fe-4737-e819-f7f24913d0c4"
      },
      "id": "LjWf1wQuLzJx",
      "execution_count": 1,
      "outputs": [
        {
          "output_type": "stream",
          "name": "stdout",
          "text": [
            "Drive already mounted at /content/drive; to attempt to forcibly remount, call drive.mount(\"/content/drive\", force_remount=True).\n"
          ]
        }
      ]
    },
    {
      "cell_type": "markdown",
      "id": "959d98a1-a1ef-47c9-a8bc-edff78f6bc41",
      "metadata": {
        "id": "959d98a1-a1ef-47c9-a8bc-edff78f6bc41"
      },
      "source": [
        "# Import package"
      ]
    },
    {
      "cell_type": "code",
      "source": [
        "# !pip install pandas facenet_pytorch torch==2.2.0 torchvision==0.17.0 numpy==1.24.0 matplotlib pillow==10.2.0 pytest-shutil opencv-python"
      ],
      "metadata": {
        "id": "qTfR4GZlV21q"
      },
      "id": "qTfR4GZlV21q",
      "execution_count": 2,
      "outputs": []
    },
    {
      "cell_type": "code",
      "execution_count": 3,
      "id": "9198b4ef-3f11-46ac-ae4c-5901230488c2",
      "metadata": {
        "id": "9198b4ef-3f11-46ac-ae4c-5901230488c2"
      },
      "outputs": [],
      "source": [
        "import pandas as pd\n",
        "import torch\n",
        "import matplotlib.pyplot as plt\n",
        "import matplotlib.image as mpimg\n",
        "from PIL import Image\n",
        "import os\n",
        "import shutil\n",
        "\n",
        "from torchvision import datasets, transforms\n",
        "from copy import deepcopy\n",
        "from facenet_pytorch import MTCNN, InceptionResnetV1\n",
        "from torchvision import transforms\n",
        "from torch.utils.data import Dataset\n",
        "from torch.utils.data import DataLoader\n",
        "import torch.nn.functional as F\n",
        "\n",
        "import torch.nn as nn\n",
        "import torch.optim as optim\n",
        "from sklearn.metrics import f1_score\n",
        "import numpy as np\n",
        "import os\n",
        "\n",
        "from sklearn.metrics import classification_report\n",
        "import seaborn as sns"
      ]
    },
    {
      "cell_type": "markdown",
      "id": "c75a91de-584a-4dbd-aec0-4645420fff0c",
      "metadata": {
        "jp-MarkdownHeadingCollapsed": true,
        "id": "c75a91de-584a-4dbd-aec0-4645420fff0c"
      },
      "source": [
        "# Check CUDA availability"
      ]
    },
    {
      "cell_type": "code",
      "execution_count": 4,
      "id": "1163edda-2f6c-4593-a7e1-7b3413e5d0a5",
      "metadata": {
        "colab": {
          "base_uri": "https://localhost:8080/"
        },
        "id": "1163edda-2f6c-4593-a7e1-7b3413e5d0a5",
        "outputId": "82d69e33-9d06-44a2-9463-804eb475a401"
      },
      "outputs": [
        {
          "output_type": "execute_result",
          "data": {
            "text/plain": [
              "True"
            ]
          },
          "metadata": {},
          "execution_count": 4
        }
      ],
      "source": [
        "torch.cuda.is_available()"
      ]
    },
    {
      "cell_type": "code",
      "execution_count": 5,
      "id": "e45c5f6a-549d-436c-ae61-e93ccdd96a87",
      "metadata": {
        "id": "e45c5f6a-549d-436c-ae61-e93ccdd96a87"
      },
      "outputs": [],
      "source": [
        "device = torch.device(\"cuda\" if torch.cuda.is_available() else \"cpu\")"
      ]
    },
    {
      "cell_type": "markdown",
      "id": "5c856806-0388-47a4-9e54-1b847a7ff4f4",
      "metadata": {
        "jp-MarkdownHeadingCollapsed": true,
        "id": "5c856806-0388-47a4-9e54-1b847a7ff4f4"
      },
      "source": [
        "# Import data"
      ]
    },
    {
      "cell_type": "markdown",
      "id": "20b9abf2-f0fe-4d4b-adf7-dbba6fd2c028",
      "metadata": {
        "id": "20b9abf2-f0fe-4d4b-adf7-dbba6fd2c028"
      },
      "source": [
        "## a/ Get dataframe"
      ]
    },
    {
      "cell_type": "code",
      "execution_count": 6,
      "id": "f7c3961e-ebd3-45da-8d6a-aaf238c87a4e",
      "metadata": {
        "colab": {
          "base_uri": "https://localhost:8080/",
          "height": 423
        },
        "id": "f7c3961e-ebd3-45da-8d6a-aaf238c87a4e",
        "outputId": "a715d4fb-7f1f-4252-df75-37544e6bd2a6"
      },
      "outputs": [
        {
          "output_type": "execute_result",
          "data": {
            "text/plain": [
              "                    name  images\n",
              "0                AJ_Cook       1\n",
              "1               AJ_Lamas       1\n",
              "2          Aaron_Eckhart       1\n",
              "3            Aaron_Guiel       1\n",
              "4        Aaron_Patterson       1\n",
              "...                  ...     ...\n",
              "5744      Zorica_Radovic       1\n",
              "5745      Zulfiqar_Ahmed       1\n",
              "5746        Zumrati_Juma       1\n",
              "5747     Zurab_Tsereteli       1\n",
              "5748  Zydrunas_Ilgauskas       1\n",
              "\n",
              "[5749 rows x 2 columns]"
            ],
            "text/html": [
              "\n",
              "  <div id=\"df-5b03b504-5d2e-40fa-bbd5-fd55fe87c159\" class=\"colab-df-container\">\n",
              "    <div>\n",
              "<style scoped>\n",
              "    .dataframe tbody tr th:only-of-type {\n",
              "        vertical-align: middle;\n",
              "    }\n",
              "\n",
              "    .dataframe tbody tr th {\n",
              "        vertical-align: top;\n",
              "    }\n",
              "\n",
              "    .dataframe thead th {\n",
              "        text-align: right;\n",
              "    }\n",
              "</style>\n",
              "<table border=\"1\" class=\"dataframe\">\n",
              "  <thead>\n",
              "    <tr style=\"text-align: right;\">\n",
              "      <th></th>\n",
              "      <th>name</th>\n",
              "      <th>images</th>\n",
              "    </tr>\n",
              "  </thead>\n",
              "  <tbody>\n",
              "    <tr>\n",
              "      <th>0</th>\n",
              "      <td>AJ_Cook</td>\n",
              "      <td>1</td>\n",
              "    </tr>\n",
              "    <tr>\n",
              "      <th>1</th>\n",
              "      <td>AJ_Lamas</td>\n",
              "      <td>1</td>\n",
              "    </tr>\n",
              "    <tr>\n",
              "      <th>2</th>\n",
              "      <td>Aaron_Eckhart</td>\n",
              "      <td>1</td>\n",
              "    </tr>\n",
              "    <tr>\n",
              "      <th>3</th>\n",
              "      <td>Aaron_Guiel</td>\n",
              "      <td>1</td>\n",
              "    </tr>\n",
              "    <tr>\n",
              "      <th>4</th>\n",
              "      <td>Aaron_Patterson</td>\n",
              "      <td>1</td>\n",
              "    </tr>\n",
              "    <tr>\n",
              "      <th>...</th>\n",
              "      <td>...</td>\n",
              "      <td>...</td>\n",
              "    </tr>\n",
              "    <tr>\n",
              "      <th>5744</th>\n",
              "      <td>Zorica_Radovic</td>\n",
              "      <td>1</td>\n",
              "    </tr>\n",
              "    <tr>\n",
              "      <th>5745</th>\n",
              "      <td>Zulfiqar_Ahmed</td>\n",
              "      <td>1</td>\n",
              "    </tr>\n",
              "    <tr>\n",
              "      <th>5746</th>\n",
              "      <td>Zumrati_Juma</td>\n",
              "      <td>1</td>\n",
              "    </tr>\n",
              "    <tr>\n",
              "      <th>5747</th>\n",
              "      <td>Zurab_Tsereteli</td>\n",
              "      <td>1</td>\n",
              "    </tr>\n",
              "    <tr>\n",
              "      <th>5748</th>\n",
              "      <td>Zydrunas_Ilgauskas</td>\n",
              "      <td>1</td>\n",
              "    </tr>\n",
              "  </tbody>\n",
              "</table>\n",
              "<p>5749 rows × 2 columns</p>\n",
              "</div>\n",
              "    <div class=\"colab-df-buttons\">\n",
              "\n",
              "  <div class=\"colab-df-container\">\n",
              "    <button class=\"colab-df-convert\" onclick=\"convertToInteractive('df-5b03b504-5d2e-40fa-bbd5-fd55fe87c159')\"\n",
              "            title=\"Convert this dataframe to an interactive table.\"\n",
              "            style=\"display:none;\">\n",
              "\n",
              "  <svg xmlns=\"http://www.w3.org/2000/svg\" height=\"24px\" viewBox=\"0 -960 960 960\">\n",
              "    <path d=\"M120-120v-720h720v720H120Zm60-500h600v-160H180v160Zm220 220h160v-160H400v160Zm0 220h160v-160H400v160ZM180-400h160v-160H180v160Zm440 0h160v-160H620v160ZM180-180h160v-160H180v160Zm440 0h160v-160H620v160Z\"/>\n",
              "  </svg>\n",
              "    </button>\n",
              "\n",
              "  <style>\n",
              "    .colab-df-container {\n",
              "      display:flex;\n",
              "      gap: 12px;\n",
              "    }\n",
              "\n",
              "    .colab-df-convert {\n",
              "      background-color: #E8F0FE;\n",
              "      border: none;\n",
              "      border-radius: 50%;\n",
              "      cursor: pointer;\n",
              "      display: none;\n",
              "      fill: #1967D2;\n",
              "      height: 32px;\n",
              "      padding: 0 0 0 0;\n",
              "      width: 32px;\n",
              "    }\n",
              "\n",
              "    .colab-df-convert:hover {\n",
              "      background-color: #E2EBFA;\n",
              "      box-shadow: 0px 1px 2px rgba(60, 64, 67, 0.3), 0px 1px 3px 1px rgba(60, 64, 67, 0.15);\n",
              "      fill: #174EA6;\n",
              "    }\n",
              "\n",
              "    .colab-df-buttons div {\n",
              "      margin-bottom: 4px;\n",
              "    }\n",
              "\n",
              "    [theme=dark] .colab-df-convert {\n",
              "      background-color: #3B4455;\n",
              "      fill: #D2E3FC;\n",
              "    }\n",
              "\n",
              "    [theme=dark] .colab-df-convert:hover {\n",
              "      background-color: #434B5C;\n",
              "      box-shadow: 0px 1px 3px 1px rgba(0, 0, 0, 0.15);\n",
              "      filter: drop-shadow(0px 1px 2px rgba(0, 0, 0, 0.3));\n",
              "      fill: #FFFFFF;\n",
              "    }\n",
              "  </style>\n",
              "\n",
              "    <script>\n",
              "      const buttonEl =\n",
              "        document.querySelector('#df-5b03b504-5d2e-40fa-bbd5-fd55fe87c159 button.colab-df-convert');\n",
              "      buttonEl.style.display =\n",
              "        google.colab.kernel.accessAllowed ? 'block' : 'none';\n",
              "\n",
              "      async function convertToInteractive(key) {\n",
              "        const element = document.querySelector('#df-5b03b504-5d2e-40fa-bbd5-fd55fe87c159');\n",
              "        const dataTable =\n",
              "          await google.colab.kernel.invokeFunction('convertToInteractive',\n",
              "                                                    [key], {});\n",
              "        if (!dataTable) return;\n",
              "\n",
              "        const docLinkHtml = 'Like what you see? Visit the ' +\n",
              "          '<a target=\"_blank\" href=https://colab.research.google.com/notebooks/data_table.ipynb>data table notebook</a>'\n",
              "          + ' to learn more about interactive tables.';\n",
              "        element.innerHTML = '';\n",
              "        dataTable['output_type'] = 'display_data';\n",
              "        await google.colab.output.renderOutput(dataTable, element);\n",
              "        const docLink = document.createElement('div');\n",
              "        docLink.innerHTML = docLinkHtml;\n",
              "        element.appendChild(docLink);\n",
              "      }\n",
              "    </script>\n",
              "  </div>\n",
              "\n",
              "\n",
              "<div id=\"df-9a27d525-35e1-4196-a511-151b47e11971\">\n",
              "  <button class=\"colab-df-quickchart\" onclick=\"quickchart('df-9a27d525-35e1-4196-a511-151b47e11971')\"\n",
              "            title=\"Suggest charts\"\n",
              "            style=\"display:none;\">\n",
              "\n",
              "<svg xmlns=\"http://www.w3.org/2000/svg\" height=\"24px\"viewBox=\"0 0 24 24\"\n",
              "     width=\"24px\">\n",
              "    <g>\n",
              "        <path d=\"M19 3H5c-1.1 0-2 .9-2 2v14c0 1.1.9 2 2 2h14c1.1 0 2-.9 2-2V5c0-1.1-.9-2-2-2zM9 17H7v-7h2v7zm4 0h-2V7h2v10zm4 0h-2v-4h2v4z\"/>\n",
              "    </g>\n",
              "</svg>\n",
              "  </button>\n",
              "\n",
              "<style>\n",
              "  .colab-df-quickchart {\n",
              "      --bg-color: #E8F0FE;\n",
              "      --fill-color: #1967D2;\n",
              "      --hover-bg-color: #E2EBFA;\n",
              "      --hover-fill-color: #174EA6;\n",
              "      --disabled-fill-color: #AAA;\n",
              "      --disabled-bg-color: #DDD;\n",
              "  }\n",
              "\n",
              "  [theme=dark] .colab-df-quickchart {\n",
              "      --bg-color: #3B4455;\n",
              "      --fill-color: #D2E3FC;\n",
              "      --hover-bg-color: #434B5C;\n",
              "      --hover-fill-color: #FFFFFF;\n",
              "      --disabled-bg-color: #3B4455;\n",
              "      --disabled-fill-color: #666;\n",
              "  }\n",
              "\n",
              "  .colab-df-quickchart {\n",
              "    background-color: var(--bg-color);\n",
              "    border: none;\n",
              "    border-radius: 50%;\n",
              "    cursor: pointer;\n",
              "    display: none;\n",
              "    fill: var(--fill-color);\n",
              "    height: 32px;\n",
              "    padding: 0;\n",
              "    width: 32px;\n",
              "  }\n",
              "\n",
              "  .colab-df-quickchart:hover {\n",
              "    background-color: var(--hover-bg-color);\n",
              "    box-shadow: 0 1px 2px rgba(60, 64, 67, 0.3), 0 1px 3px 1px rgba(60, 64, 67, 0.15);\n",
              "    fill: var(--button-hover-fill-color);\n",
              "  }\n",
              "\n",
              "  .colab-df-quickchart-complete:disabled,\n",
              "  .colab-df-quickchart-complete:disabled:hover {\n",
              "    background-color: var(--disabled-bg-color);\n",
              "    fill: var(--disabled-fill-color);\n",
              "    box-shadow: none;\n",
              "  }\n",
              "\n",
              "  .colab-df-spinner {\n",
              "    border: 2px solid var(--fill-color);\n",
              "    border-color: transparent;\n",
              "    border-bottom-color: var(--fill-color);\n",
              "    animation:\n",
              "      spin 1s steps(1) infinite;\n",
              "  }\n",
              "\n",
              "  @keyframes spin {\n",
              "    0% {\n",
              "      border-color: transparent;\n",
              "      border-bottom-color: var(--fill-color);\n",
              "      border-left-color: var(--fill-color);\n",
              "    }\n",
              "    20% {\n",
              "      border-color: transparent;\n",
              "      border-left-color: var(--fill-color);\n",
              "      border-top-color: var(--fill-color);\n",
              "    }\n",
              "    30% {\n",
              "      border-color: transparent;\n",
              "      border-left-color: var(--fill-color);\n",
              "      border-top-color: var(--fill-color);\n",
              "      border-right-color: var(--fill-color);\n",
              "    }\n",
              "    40% {\n",
              "      border-color: transparent;\n",
              "      border-right-color: var(--fill-color);\n",
              "      border-top-color: var(--fill-color);\n",
              "    }\n",
              "    60% {\n",
              "      border-color: transparent;\n",
              "      border-right-color: var(--fill-color);\n",
              "    }\n",
              "    80% {\n",
              "      border-color: transparent;\n",
              "      border-right-color: var(--fill-color);\n",
              "      border-bottom-color: var(--fill-color);\n",
              "    }\n",
              "    90% {\n",
              "      border-color: transparent;\n",
              "      border-bottom-color: var(--fill-color);\n",
              "    }\n",
              "  }\n",
              "</style>\n",
              "\n",
              "  <script>\n",
              "    async function quickchart(key) {\n",
              "      const quickchartButtonEl =\n",
              "        document.querySelector('#' + key + ' button');\n",
              "      quickchartButtonEl.disabled = true;  // To prevent multiple clicks.\n",
              "      quickchartButtonEl.classList.add('colab-df-spinner');\n",
              "      try {\n",
              "        const charts = await google.colab.kernel.invokeFunction(\n",
              "            'suggestCharts', [key], {});\n",
              "      } catch (error) {\n",
              "        console.error('Error during call to suggestCharts:', error);\n",
              "      }\n",
              "      quickchartButtonEl.classList.remove('colab-df-spinner');\n",
              "      quickchartButtonEl.classList.add('colab-df-quickchart-complete');\n",
              "    }\n",
              "    (() => {\n",
              "      let quickchartButtonEl =\n",
              "        document.querySelector('#df-9a27d525-35e1-4196-a511-151b47e11971 button');\n",
              "      quickchartButtonEl.style.display =\n",
              "        google.colab.kernel.accessAllowed ? 'block' : 'none';\n",
              "    })();\n",
              "  </script>\n",
              "</div>\n",
              "\n",
              "  <div id=\"id_1251a0d2-1bd3-4d8c-8b1e-a2fdbd704fc0\">\n",
              "    <style>\n",
              "      .colab-df-generate {\n",
              "        background-color: #E8F0FE;\n",
              "        border: none;\n",
              "        border-radius: 50%;\n",
              "        cursor: pointer;\n",
              "        display: none;\n",
              "        fill: #1967D2;\n",
              "        height: 32px;\n",
              "        padding: 0 0 0 0;\n",
              "        width: 32px;\n",
              "      }\n",
              "\n",
              "      .colab-df-generate:hover {\n",
              "        background-color: #E2EBFA;\n",
              "        box-shadow: 0px 1px 2px rgba(60, 64, 67, 0.3), 0px 1px 3px 1px rgba(60, 64, 67, 0.15);\n",
              "        fill: #174EA6;\n",
              "      }\n",
              "\n",
              "      [theme=dark] .colab-df-generate {\n",
              "        background-color: #3B4455;\n",
              "        fill: #D2E3FC;\n",
              "      }\n",
              "\n",
              "      [theme=dark] .colab-df-generate:hover {\n",
              "        background-color: #434B5C;\n",
              "        box-shadow: 0px 1px 3px 1px rgba(0, 0, 0, 0.15);\n",
              "        filter: drop-shadow(0px 1px 2px rgba(0, 0, 0, 0.3));\n",
              "        fill: #FFFFFF;\n",
              "      }\n",
              "    </style>\n",
              "    <button class=\"colab-df-generate\" onclick=\"generateWithVariable('df')\"\n",
              "            title=\"Generate code using this dataframe.\"\n",
              "            style=\"display:none;\">\n",
              "\n",
              "  <svg xmlns=\"http://www.w3.org/2000/svg\" height=\"24px\"viewBox=\"0 0 24 24\"\n",
              "       width=\"24px\">\n",
              "    <path d=\"M7,19H8.4L18.45,9,17,7.55,7,17.6ZM5,21V16.75L18.45,3.32a2,2,0,0,1,2.83,0l1.4,1.43a1.91,1.91,0,0,1,.58,1.4,1.91,1.91,0,0,1-.58,1.4L9.25,21ZM18.45,9,17,7.55Zm-12,3A5.31,5.31,0,0,0,4.9,8.1,5.31,5.31,0,0,0,1,6.5,5.31,5.31,0,0,0,4.9,4.9,5.31,5.31,0,0,0,6.5,1,5.31,5.31,0,0,0,8.1,4.9,5.31,5.31,0,0,0,12,6.5,5.46,5.46,0,0,0,6.5,12Z\"/>\n",
              "  </svg>\n",
              "    </button>\n",
              "    <script>\n",
              "      (() => {\n",
              "      const buttonEl =\n",
              "        document.querySelector('#id_1251a0d2-1bd3-4d8c-8b1e-a2fdbd704fc0 button.colab-df-generate');\n",
              "      buttonEl.style.display =\n",
              "        google.colab.kernel.accessAllowed ? 'block' : 'none';\n",
              "\n",
              "      buttonEl.onclick = () => {\n",
              "        google.colab.notebook.generateWithVariable('df');\n",
              "      }\n",
              "      })();\n",
              "    </script>\n",
              "  </div>\n",
              "\n",
              "    </div>\n",
              "  </div>\n"
            ],
            "application/vnd.google.colaboratory.intrinsic+json": {
              "type": "dataframe",
              "variable_name": "df",
              "summary": "{\n  \"name\": \"df\",\n  \"rows\": 5749,\n  \"fields\": [\n    {\n      \"column\": \"name\",\n      \"properties\": {\n        \"dtype\": \"string\",\n        \"num_unique_values\": 5749,\n        \"samples\": [\n          \"Natasha_Lyonne\",\n          \"Takuma_Sato\",\n          \"Iban_Mayo\"\n        ],\n        \"semantic_type\": \"\",\n        \"description\": \"\"\n      }\n    },\n    {\n      \"column\": \"images\",\n      \"properties\": {\n        \"dtype\": \"number\",\n        \"std\": 9,\n        \"min\": 1,\n        \"max\": 530,\n        \"num_unique_values\": 53,\n        \"samples\": [\n          42,\n          53,\n          33\n        ],\n        \"semantic_type\": \"\",\n        \"description\": \"\"\n      }\n    }\n  ]\n}"
            }
          },
          "metadata": {},
          "execution_count": 6
        }
      ],
      "source": [
        "df = pd.read_csv(\"/content/drive/MyDrive/Data_science/PROJET_perso/facial_recognition_project-main-Backend-data/Backend/data/lfw_allnames.csv\")\n",
        "df"
      ]
    },
    {
      "cell_type": "markdown",
      "id": "ac5b3297-7967-4e7b-bae3-60d14010dd0d",
      "metadata": {
        "id": "ac5b3297-7967-4e7b-bae3-60d14010dd0d"
      },
      "source": [
        "## b/ Read .jpg files"
      ]
    },
    {
      "cell_type": "code",
      "execution_count": 7,
      "id": "4842602d-3938-4a70-83d0-19a6a1a6fc65",
      "metadata": {
        "id": "4842602d-3938-4a70-83d0-19a6a1a6fc65"
      },
      "outputs": [],
      "source": [
        "# img = mpimg.imread('../content/drive/MyDrive/Data_science/PROJET_perso/facial_recognition_project-main-Backend-data/Backend/data/lfw-deepfunneled/Zinedine_Zidane/Zinedine_Zidane_0004.jpg')\n",
        "# plt.imshow(img)"
      ]
    },
    {
      "cell_type": "code",
      "execution_count": 8,
      "id": "82df7723-357c-464d-b5b2-1d9aee21b9cd",
      "metadata": {
        "id": "82df7723-357c-464d-b5b2-1d9aee21b9cd"
      },
      "outputs": [],
      "source": [
        "# # Load an image\n",
        "# image = Image.open('../data/lfw-deepfunneled/Zinedine_Zidane/Zinedine_Zidane_0004.jpg')\n",
        "\n",
        "# # Get the size of the image\n",
        "# width, height = image.size\n",
        "\n",
        "# print(f\"{width}x{height}\")"
      ]
    },
    {
      "cell_type": "markdown",
      "id": "4f4c79a0-7817-47e0-9c4c-680152d2f59a",
      "metadata": {
        "jp-MarkdownHeadingCollapsed": true,
        "id": "4f4c79a0-7817-47e0-9c4c-680152d2f59a"
      },
      "source": [
        "# Select data for modelisation"
      ]
    },
    {
      "cell_type": "markdown",
      "id": "a58a4ce7-b7ce-42e2-bfa3-3105b2174cce",
      "metadata": {
        "id": "a58a4ce7-b7ce-42e2-bfa3-3105b2174cce"
      },
      "source": [
        "### a/ Select randomly 100 individuals that contain between 5 and 15 images"
      ]
    },
    {
      "cell_type": "code",
      "execution_count": 9,
      "id": "b6761884-3ccc-4bc2-955c-e16b2d9af917",
      "metadata": {
        "colab": {
          "base_uri": "https://localhost:8080/",
          "height": 423
        },
        "id": "b6761884-3ccc-4bc2-955c-e16b2d9af917",
        "outputId": "5fa966e9-2ec5-48af-c3ab-64346383b0f9"
      },
      "outputs": [
        {
          "output_type": "execute_result",
          "data": {
            "text/plain": [
              "                     name  images\n",
              "847         Cesar_Gaviria       8\n",
              "856          Chanda_Rubin       5\n",
              "876         Charles_Moose      13\n",
              "883        Charles_Taylor       9\n",
              "897       Charlton_Heston       6\n",
              "...                   ...     ...\n",
              "2630         Joan_Laporta       9\n",
              "2659        Joe_Lieberman      13\n",
              "2679         John_Abizaid       9\n",
              "2680  John_Allen_Muhammad      11\n",
              "2705         John_Edwards       8\n",
              "\n",
              "[100 rows x 2 columns]"
            ],
            "text/html": [
              "\n",
              "  <div id=\"df-519e1f39-132b-4578-9697-76e942846371\" class=\"colab-df-container\">\n",
              "    <div>\n",
              "<style scoped>\n",
              "    .dataframe tbody tr th:only-of-type {\n",
              "        vertical-align: middle;\n",
              "    }\n",
              "\n",
              "    .dataframe tbody tr th {\n",
              "        vertical-align: top;\n",
              "    }\n",
              "\n",
              "    .dataframe thead th {\n",
              "        text-align: right;\n",
              "    }\n",
              "</style>\n",
              "<table border=\"1\" class=\"dataframe\">\n",
              "  <thead>\n",
              "    <tr style=\"text-align: right;\">\n",
              "      <th></th>\n",
              "      <th>name</th>\n",
              "      <th>images</th>\n",
              "    </tr>\n",
              "  </thead>\n",
              "  <tbody>\n",
              "    <tr>\n",
              "      <th>847</th>\n",
              "      <td>Cesar_Gaviria</td>\n",
              "      <td>8</td>\n",
              "    </tr>\n",
              "    <tr>\n",
              "      <th>856</th>\n",
              "      <td>Chanda_Rubin</td>\n",
              "      <td>5</td>\n",
              "    </tr>\n",
              "    <tr>\n",
              "      <th>876</th>\n",
              "      <td>Charles_Moose</td>\n",
              "      <td>13</td>\n",
              "    </tr>\n",
              "    <tr>\n",
              "      <th>883</th>\n",
              "      <td>Charles_Taylor</td>\n",
              "      <td>9</td>\n",
              "    </tr>\n",
              "    <tr>\n",
              "      <th>897</th>\n",
              "      <td>Charlton_Heston</td>\n",
              "      <td>6</td>\n",
              "    </tr>\n",
              "    <tr>\n",
              "      <th>...</th>\n",
              "      <td>...</td>\n",
              "      <td>...</td>\n",
              "    </tr>\n",
              "    <tr>\n",
              "      <th>2630</th>\n",
              "      <td>Joan_Laporta</td>\n",
              "      <td>9</td>\n",
              "    </tr>\n",
              "    <tr>\n",
              "      <th>2659</th>\n",
              "      <td>Joe_Lieberman</td>\n",
              "      <td>13</td>\n",
              "    </tr>\n",
              "    <tr>\n",
              "      <th>2679</th>\n",
              "      <td>John_Abizaid</td>\n",
              "      <td>9</td>\n",
              "    </tr>\n",
              "    <tr>\n",
              "      <th>2680</th>\n",
              "      <td>John_Allen_Muhammad</td>\n",
              "      <td>11</td>\n",
              "    </tr>\n",
              "    <tr>\n",
              "      <th>2705</th>\n",
              "      <td>John_Edwards</td>\n",
              "      <td>8</td>\n",
              "    </tr>\n",
              "  </tbody>\n",
              "</table>\n",
              "<p>100 rows × 2 columns</p>\n",
              "</div>\n",
              "    <div class=\"colab-df-buttons\">\n",
              "\n",
              "  <div class=\"colab-df-container\">\n",
              "    <button class=\"colab-df-convert\" onclick=\"convertToInteractive('df-519e1f39-132b-4578-9697-76e942846371')\"\n",
              "            title=\"Convert this dataframe to an interactive table.\"\n",
              "            style=\"display:none;\">\n",
              "\n",
              "  <svg xmlns=\"http://www.w3.org/2000/svg\" height=\"24px\" viewBox=\"0 -960 960 960\">\n",
              "    <path d=\"M120-120v-720h720v720H120Zm60-500h600v-160H180v160Zm220 220h160v-160H400v160Zm0 220h160v-160H400v160ZM180-400h160v-160H180v160Zm440 0h160v-160H620v160ZM180-180h160v-160H180v160Zm440 0h160v-160H620v160Z\"/>\n",
              "  </svg>\n",
              "    </button>\n",
              "\n",
              "  <style>\n",
              "    .colab-df-container {\n",
              "      display:flex;\n",
              "      gap: 12px;\n",
              "    }\n",
              "\n",
              "    .colab-df-convert {\n",
              "      background-color: #E8F0FE;\n",
              "      border: none;\n",
              "      border-radius: 50%;\n",
              "      cursor: pointer;\n",
              "      display: none;\n",
              "      fill: #1967D2;\n",
              "      height: 32px;\n",
              "      padding: 0 0 0 0;\n",
              "      width: 32px;\n",
              "    }\n",
              "\n",
              "    .colab-df-convert:hover {\n",
              "      background-color: #E2EBFA;\n",
              "      box-shadow: 0px 1px 2px rgba(60, 64, 67, 0.3), 0px 1px 3px 1px rgba(60, 64, 67, 0.15);\n",
              "      fill: #174EA6;\n",
              "    }\n",
              "\n",
              "    .colab-df-buttons div {\n",
              "      margin-bottom: 4px;\n",
              "    }\n",
              "\n",
              "    [theme=dark] .colab-df-convert {\n",
              "      background-color: #3B4455;\n",
              "      fill: #D2E3FC;\n",
              "    }\n",
              "\n",
              "    [theme=dark] .colab-df-convert:hover {\n",
              "      background-color: #434B5C;\n",
              "      box-shadow: 0px 1px 3px 1px rgba(0, 0, 0, 0.15);\n",
              "      filter: drop-shadow(0px 1px 2px rgba(0, 0, 0, 0.3));\n",
              "      fill: #FFFFFF;\n",
              "    }\n",
              "  </style>\n",
              "\n",
              "    <script>\n",
              "      const buttonEl =\n",
              "        document.querySelector('#df-519e1f39-132b-4578-9697-76e942846371 button.colab-df-convert');\n",
              "      buttonEl.style.display =\n",
              "        google.colab.kernel.accessAllowed ? 'block' : 'none';\n",
              "\n",
              "      async function convertToInteractive(key) {\n",
              "        const element = document.querySelector('#df-519e1f39-132b-4578-9697-76e942846371');\n",
              "        const dataTable =\n",
              "          await google.colab.kernel.invokeFunction('convertToInteractive',\n",
              "                                                    [key], {});\n",
              "        if (!dataTable) return;\n",
              "\n",
              "        const docLinkHtml = 'Like what you see? Visit the ' +\n",
              "          '<a target=\"_blank\" href=https://colab.research.google.com/notebooks/data_table.ipynb>data table notebook</a>'\n",
              "          + ' to learn more about interactive tables.';\n",
              "        element.innerHTML = '';\n",
              "        dataTable['output_type'] = 'display_data';\n",
              "        await google.colab.output.renderOutput(dataTable, element);\n",
              "        const docLink = document.createElement('div');\n",
              "        docLink.innerHTML = docLinkHtml;\n",
              "        element.appendChild(docLink);\n",
              "      }\n",
              "    </script>\n",
              "  </div>\n",
              "\n",
              "\n",
              "<div id=\"df-0a2e6ab7-cebc-45ee-bbfd-aaadb2bde393\">\n",
              "  <button class=\"colab-df-quickchart\" onclick=\"quickchart('df-0a2e6ab7-cebc-45ee-bbfd-aaadb2bde393')\"\n",
              "            title=\"Suggest charts\"\n",
              "            style=\"display:none;\">\n",
              "\n",
              "<svg xmlns=\"http://www.w3.org/2000/svg\" height=\"24px\"viewBox=\"0 0 24 24\"\n",
              "     width=\"24px\">\n",
              "    <g>\n",
              "        <path d=\"M19 3H5c-1.1 0-2 .9-2 2v14c0 1.1.9 2 2 2h14c1.1 0 2-.9 2-2V5c0-1.1-.9-2-2-2zM9 17H7v-7h2v7zm4 0h-2V7h2v10zm4 0h-2v-4h2v4z\"/>\n",
              "    </g>\n",
              "</svg>\n",
              "  </button>\n",
              "\n",
              "<style>\n",
              "  .colab-df-quickchart {\n",
              "      --bg-color: #E8F0FE;\n",
              "      --fill-color: #1967D2;\n",
              "      --hover-bg-color: #E2EBFA;\n",
              "      --hover-fill-color: #174EA6;\n",
              "      --disabled-fill-color: #AAA;\n",
              "      --disabled-bg-color: #DDD;\n",
              "  }\n",
              "\n",
              "  [theme=dark] .colab-df-quickchart {\n",
              "      --bg-color: #3B4455;\n",
              "      --fill-color: #D2E3FC;\n",
              "      --hover-bg-color: #434B5C;\n",
              "      --hover-fill-color: #FFFFFF;\n",
              "      --disabled-bg-color: #3B4455;\n",
              "      --disabled-fill-color: #666;\n",
              "  }\n",
              "\n",
              "  .colab-df-quickchart {\n",
              "    background-color: var(--bg-color);\n",
              "    border: none;\n",
              "    border-radius: 50%;\n",
              "    cursor: pointer;\n",
              "    display: none;\n",
              "    fill: var(--fill-color);\n",
              "    height: 32px;\n",
              "    padding: 0;\n",
              "    width: 32px;\n",
              "  }\n",
              "\n",
              "  .colab-df-quickchart:hover {\n",
              "    background-color: var(--hover-bg-color);\n",
              "    box-shadow: 0 1px 2px rgba(60, 64, 67, 0.3), 0 1px 3px 1px rgba(60, 64, 67, 0.15);\n",
              "    fill: var(--button-hover-fill-color);\n",
              "  }\n",
              "\n",
              "  .colab-df-quickchart-complete:disabled,\n",
              "  .colab-df-quickchart-complete:disabled:hover {\n",
              "    background-color: var(--disabled-bg-color);\n",
              "    fill: var(--disabled-fill-color);\n",
              "    box-shadow: none;\n",
              "  }\n",
              "\n",
              "  .colab-df-spinner {\n",
              "    border: 2px solid var(--fill-color);\n",
              "    border-color: transparent;\n",
              "    border-bottom-color: var(--fill-color);\n",
              "    animation:\n",
              "      spin 1s steps(1) infinite;\n",
              "  }\n",
              "\n",
              "  @keyframes spin {\n",
              "    0% {\n",
              "      border-color: transparent;\n",
              "      border-bottom-color: var(--fill-color);\n",
              "      border-left-color: var(--fill-color);\n",
              "    }\n",
              "    20% {\n",
              "      border-color: transparent;\n",
              "      border-left-color: var(--fill-color);\n",
              "      border-top-color: var(--fill-color);\n",
              "    }\n",
              "    30% {\n",
              "      border-color: transparent;\n",
              "      border-left-color: var(--fill-color);\n",
              "      border-top-color: var(--fill-color);\n",
              "      border-right-color: var(--fill-color);\n",
              "    }\n",
              "    40% {\n",
              "      border-color: transparent;\n",
              "      border-right-color: var(--fill-color);\n",
              "      border-top-color: var(--fill-color);\n",
              "    }\n",
              "    60% {\n",
              "      border-color: transparent;\n",
              "      border-right-color: var(--fill-color);\n",
              "    }\n",
              "    80% {\n",
              "      border-color: transparent;\n",
              "      border-right-color: var(--fill-color);\n",
              "      border-bottom-color: var(--fill-color);\n",
              "    }\n",
              "    90% {\n",
              "      border-color: transparent;\n",
              "      border-bottom-color: var(--fill-color);\n",
              "    }\n",
              "  }\n",
              "</style>\n",
              "\n",
              "  <script>\n",
              "    async function quickchart(key) {\n",
              "      const quickchartButtonEl =\n",
              "        document.querySelector('#' + key + ' button');\n",
              "      quickchartButtonEl.disabled = true;  // To prevent multiple clicks.\n",
              "      quickchartButtonEl.classList.add('colab-df-spinner');\n",
              "      try {\n",
              "        const charts = await google.colab.kernel.invokeFunction(\n",
              "            'suggestCharts', [key], {});\n",
              "      } catch (error) {\n",
              "        console.error('Error during call to suggestCharts:', error);\n",
              "      }\n",
              "      quickchartButtonEl.classList.remove('colab-df-spinner');\n",
              "      quickchartButtonEl.classList.add('colab-df-quickchart-complete');\n",
              "    }\n",
              "    (() => {\n",
              "      let quickchartButtonEl =\n",
              "        document.querySelector('#df-0a2e6ab7-cebc-45ee-bbfd-aaadb2bde393 button');\n",
              "      quickchartButtonEl.style.display =\n",
              "        google.colab.kernel.accessAllowed ? 'block' : 'none';\n",
              "    })();\n",
              "  </script>\n",
              "</div>\n",
              "\n",
              "  <div id=\"id_4715b1df-42fb-45bd-9951-919c73571116\">\n",
              "    <style>\n",
              "      .colab-df-generate {\n",
              "        background-color: #E8F0FE;\n",
              "        border: none;\n",
              "        border-radius: 50%;\n",
              "        cursor: pointer;\n",
              "        display: none;\n",
              "        fill: #1967D2;\n",
              "        height: 32px;\n",
              "        padding: 0 0 0 0;\n",
              "        width: 32px;\n",
              "      }\n",
              "\n",
              "      .colab-df-generate:hover {\n",
              "        background-color: #E2EBFA;\n",
              "        box-shadow: 0px 1px 2px rgba(60, 64, 67, 0.3), 0px 1px 3px 1px rgba(60, 64, 67, 0.15);\n",
              "        fill: #174EA6;\n",
              "      }\n",
              "\n",
              "      [theme=dark] .colab-df-generate {\n",
              "        background-color: #3B4455;\n",
              "        fill: #D2E3FC;\n",
              "      }\n",
              "\n",
              "      [theme=dark] .colab-df-generate:hover {\n",
              "        background-color: #434B5C;\n",
              "        box-shadow: 0px 1px 3px 1px rgba(0, 0, 0, 0.15);\n",
              "        filter: drop-shadow(0px 1px 2px rgba(0, 0, 0, 0.3));\n",
              "        fill: #FFFFFF;\n",
              "      }\n",
              "    </style>\n",
              "    <button class=\"colab-df-generate\" onclick=\"generateWithVariable('df')\"\n",
              "            title=\"Generate code using this dataframe.\"\n",
              "            style=\"display:none;\">\n",
              "\n",
              "  <svg xmlns=\"http://www.w3.org/2000/svg\" height=\"24px\"viewBox=\"0 0 24 24\"\n",
              "       width=\"24px\">\n",
              "    <path d=\"M7,19H8.4L18.45,9,17,7.55,7,17.6ZM5,21V16.75L18.45,3.32a2,2,0,0,1,2.83,0l1.4,1.43a1.91,1.91,0,0,1,.58,1.4,1.91,1.91,0,0,1-.58,1.4L9.25,21ZM18.45,9,17,7.55Zm-12,3A5.31,5.31,0,0,0,4.9,8.1,5.31,5.31,0,0,0,1,6.5,5.31,5.31,0,0,0,4.9,4.9,5.31,5.31,0,0,0,6.5,1,5.31,5.31,0,0,0,8.1,4.9,5.31,5.31,0,0,0,12,6.5,5.46,5.46,0,0,0,6.5,12Z\"/>\n",
              "  </svg>\n",
              "    </button>\n",
              "    <script>\n",
              "      (() => {\n",
              "      const buttonEl =\n",
              "        document.querySelector('#id_4715b1df-42fb-45bd-9951-919c73571116 button.colab-df-generate');\n",
              "      buttonEl.style.display =\n",
              "        google.colab.kernel.accessAllowed ? 'block' : 'none';\n",
              "\n",
              "      buttonEl.onclick = () => {\n",
              "        google.colab.notebook.generateWithVariable('df');\n",
              "      }\n",
              "      })();\n",
              "    </script>\n",
              "  </div>\n",
              "\n",
              "    </div>\n",
              "  </div>\n"
            ],
            "application/vnd.google.colaboratory.intrinsic+json": {
              "type": "dataframe",
              "variable_name": "df",
              "summary": "{\n  \"name\": \"df\",\n  \"rows\": 100,\n  \"fields\": [\n    {\n      \"column\": \"name\",\n      \"properties\": {\n        \"dtype\": \"string\",\n        \"num_unique_values\": 100,\n        \"samples\": [\n          \"Javier_Solana\",\n          \"Gil_de_Ferran\",\n          \"Howard_Dean\"\n        ],\n        \"semantic_type\": \"\",\n        \"description\": \"\"\n      }\n    },\n    {\n      \"column\": \"images\",\n      \"properties\": {\n        \"dtype\": \"number\",\n        \"std\": 3,\n        \"min\": 5,\n        \"max\": 15,\n        \"num_unique_values\": 11,\n        \"samples\": [\n          11,\n          8,\n          12\n        ],\n        \"semantic_type\": \"\",\n        \"description\": \"\"\n      }\n    }\n  ]\n}"
            }
          },
          "metadata": {},
          "execution_count": 9
        }
      ],
      "source": [
        "# Select randomly 100 individuals that contain between 5 and 15 images :\n",
        "\n",
        "df = df.loc[(df[\"images\"] >= 5) & (df[\"images\"] <= 15), [\"name\", \"images\"]][50:150]\n",
        "df"
      ]
    },
    {
      "cell_type": "code",
      "execution_count": 10,
      "id": "f8645a8d-285f-427c-987d-a056be86c96c",
      "metadata": {
        "scrolled": true,
        "colab": {
          "base_uri": "https://localhost:8080/"
        },
        "id": "f8645a8d-285f-427c-987d-a056be86c96c",
        "outputId": "b27eb670-5060-4a5d-a3cd-4a9ba7070a12"
      },
      "outputs": [
        {
          "output_type": "execute_result",
          "data": {
            "text/plain": [
              "['Cesar_Gaviria',\n",
              " 'Chanda_Rubin',\n",
              " 'Charles_Moose',\n",
              " 'Charles_Taylor',\n",
              " 'Charlton_Heston',\n",
              " 'Chen_Shui-bian',\n",
              " 'Choi_Sung-hong',\n",
              " 'Christine_Baumgartner',\n",
              " 'Christine_Todd_Whitman',\n",
              " 'Ciro_Gomes',\n",
              " 'Clara_Harris',\n",
              " 'Claudia_Pechstein',\n",
              " 'Clay_Aiken',\n",
              " 'Clint_Eastwood',\n",
              " 'Colin_Farrell',\n",
              " 'Colin_Montgomerie',\n",
              " 'Condoleezza_Rice',\n",
              " 'Costas_Simitis',\n",
              " 'Cruz_Bustamante',\n",
              " 'David_Anderson',\n",
              " 'David_Heymann',\n",
              " 'David_Nalbandian',\n",
              " 'David_Trimble',\n",
              " 'David_Wells',\n",
              " 'Dennis_Hastert',\n",
              " 'Dennis_Kucinich',\n",
              " 'Denzel_Washington',\n",
              " 'Diana_Krall',\n",
              " 'Dick_Cheney',\n",
              " 'Dominique_de_Villepin',\n",
              " 'Edmund_Stoiber',\n",
              " 'Eduard_Shevardnadze',\n",
              " 'Eduardo_Duhalde',\n",
              " 'Edward_Lu',\n",
              " 'Elizabeth_Hurley',\n",
              " 'Elizabeth_Smart',\n",
              " 'Elsa_Zylberstein',\n",
              " 'Elton_John',\n",
              " 'Emanuel_Ginobili',\n",
              " 'Emma_Watson',\n",
              " 'Enrique_Bolanos',\n",
              " 'Erika_Harold',\n",
              " 'Fernando_Gonzalez',\n",
              " 'Fernando_Henrique_Cardoso',\n",
              " 'Frank_Solich',\n",
              " 'Fujio_Cho',\n",
              " 'Gene_Robinson',\n",
              " 'Geoff_Hoon',\n",
              " 'George_Clooney',\n",
              " 'George_HW_Bush',\n",
              " 'George_Lopez',\n",
              " 'George_Pataki',\n",
              " 'Gerry_Adams',\n",
              " 'Gil_de_Ferran',\n",
              " 'Goldie_Hawn',\n",
              " 'Gonzalo_Sanchez_de_Lozada',\n",
              " 'Gordon_Brown',\n",
              " 'Grant_Hackett',\n",
              " 'Gregg_Popovich',\n",
              " 'Gunter_Pleuger',\n",
              " 'Gwyneth_Paltrow',\n",
              " 'Habib_Rizieq',\n",
              " 'Hal_Gehman',\n",
              " 'Harrison_Ford',\n",
              " 'Heidi_Klum',\n",
              " 'Heizo_Takenaka',\n",
              " 'Hillary_Clinton',\n",
              " 'Hitomi_Soga',\n",
              " 'Holly_Hunter',\n",
              " 'Hosni_Mubarak',\n",
              " 'Howard_Dean',\n",
              " 'Hu_Jintao',\n",
              " 'Hugh_Grant',\n",
              " 'Ian_Thorpe',\n",
              " 'JK_Rowling',\n",
              " 'Jackie_Chan',\n",
              " 'Jacques_Rogge',\n",
              " 'Jake_Gyllenhaal',\n",
              " 'James_Blake',\n",
              " 'James_Kelly',\n",
              " 'James_Wolfensohn',\n",
              " 'Jan_Ullrich',\n",
              " 'Jason_Kidd',\n",
              " 'Javier_Solana',\n",
              " 'Jay_Garner',\n",
              " 'Jean-David_Levitte',\n",
              " 'Jean-Pierre_Raffarin',\n",
              " 'Jeb_Bush',\n",
              " 'Jelena_Dokic',\n",
              " 'Jennifer_Garner',\n",
              " 'Jeong_Se-hyun',\n",
              " 'Jesse_Jackson',\n",
              " 'Jim_Furyk',\n",
              " 'Jimmy_Carter',\n",
              " 'Jiri_Novak',\n",
              " 'Joan_Laporta',\n",
              " 'Joe_Lieberman',\n",
              " 'John_Abizaid',\n",
              " 'John_Allen_Muhammad',\n",
              " 'John_Edwards']"
            ]
          },
          "metadata": {},
          "execution_count": 10
        }
      ],
      "source": [
        "list_name = list(df[\"name\"])\n",
        "list_name"
      ]
    },
    {
      "cell_type": "markdown",
      "id": "d4c834fa-70cf-4b3a-8bf7-d85969162501",
      "metadata": {
        "id": "d4c834fa-70cf-4b3a-8bf7-d85969162501"
      },
      "source": [
        "### b/ Create train folder"
      ]
    },
    {
      "cell_type": "code",
      "execution_count": 11,
      "id": "c6a5a852-5350-4b9b-a6b9-fdd4e25783f3",
      "metadata": {
        "id": "c6a5a852-5350-4b9b-a6b9-fdd4e25783f3"
      },
      "outputs": [],
      "source": [
        "# # create train folder (for modelisation) :\n",
        "\n",
        "# for name in list_name :\n",
        "#     shutil.copytree(f\"../data/lfw-deepfunneled/{name}\", f\"../data/lfw_01_train/{name}\", dirs_exist_ok=True)"
      ]
    },
    {
      "cell_type": "code",
      "execution_count": 11,
      "id": "5d306ec9-d9a2-400c-aab4-54af4b59b81a",
      "metadata": {
        "id": "5d306ec9-d9a2-400c-aab4-54af4b59b81a"
      },
      "outputs": [],
      "source": []
    },
    {
      "cell_type": "markdown",
      "id": "457ab5df-1090-48f5-9b7b-31a3a952bb3b",
      "metadata": {
        "id": "457ab5df-1090-48f5-9b7b-31a3a952bb3b"
      },
      "source": [
        "### c/ Create test folder"
      ]
    },
    {
      "cell_type": "code",
      "execution_count": 12,
      "id": "cd0b744f-803d-4969-80b5-b6e6c52ef26d",
      "metadata": {
        "id": "cd0b744f-803d-4969-80b5-b6e6c52ef26d"
      },
      "outputs": [],
      "source": [
        "# data_train_path = f\"../data/lfw_01_train/\"\n",
        "# data_test_path = f\"../data/lfw_03_test/\"\n",
        "\n",
        "# for name in list_name :\n",
        "\n",
        "#     train_name_path = data_train_path + name + \"/\"\n",
        "#     test_name_path = data_test_path + name + \"/\"\n",
        "\n",
        "#     # make directory for the name in data/lfw_03_test/ folder :\n",
        "#     os.makedirs(os.path.dirname(test_name_path), exist_ok=True)\n",
        "\n",
        "#     # get all file of the indivual folder :\n",
        "#     list_file = os.listdir(train_name_path)\n",
        "\n",
        "#     # get num of .jpg file :\n",
        "#     len_picture = len(list_file)\n",
        "\n",
        "#     # get the number of picture to extract for data_test :\n",
        "#     len_test = round(len_picture*0.4)\n",
        "\n",
        "#     # list of picture to move to data_test :\n",
        "#     list_file_test = list_file[:len_test]\n",
        "\n",
        "#     # move train picture to data_test :\n",
        "#     for picture_file in list_file_test :\n",
        "#         shutil.move(train_name_path + picture_file, test_name_path + picture_file)\n"
      ]
    },
    {
      "cell_type": "markdown",
      "id": "5c94f398-d742-4ddd-b72b-cff313952e82",
      "metadata": {
        "id": "5c94f398-d742-4ddd-b72b-cff313952e82"
      },
      "source": [
        "### d/ Create Val folder"
      ]
    },
    {
      "cell_type": "code",
      "execution_count": 13,
      "id": "b8e2cb58-3490-4bda-bc08-241a5657a6d3",
      "metadata": {
        "id": "b8e2cb58-3490-4bda-bc08-241a5657a6d3"
      },
      "outputs": [],
      "source": [
        "# data_test_path = f\"../data/lfw_03_test/\"\n",
        "# data_val_path = f\"../data/lfw_02_val/\"\n",
        "\n",
        "\n",
        "# for name in list_name :\n",
        "\n",
        "#     test_name_path = data_test_path + name + \"/\"\n",
        "#     val_name_path = data_val_path + name + \"/\"\n",
        "\n",
        "#     # make directory for the name in data/lfw_02_val/ folder :\n",
        "#     os.makedirs(os.path.dirname(val_name_path), exist_ok=True)\n",
        "\n",
        "#     # get a list of all file of the indivual folder :\n",
        "#     list_file = os.listdir(test_name_path)\n",
        "\n",
        "#     # get num of .jpg file :\n",
        "#     len_picture = len(list_file)\n",
        "\n",
        "#     # get the number of picture to extract for data_test :\n",
        "#     len_val = round(len_picture*0.5)\n",
        "\n",
        "#     # list of picture to move to data_test :\n",
        "#     if len_val == 0 :\n",
        "#         list_file_val = list_file[:1]\n",
        "#     else :\n",
        "#         list_file_val = list_file[:len_val]\n",
        "\n",
        "#     # move train picture to data_test :\n",
        "#     for picture_file in list_file_val :\n",
        "#         shutil.move(test_name_path + picture_file, val_name_path + picture_file)\n"
      ]
    },
    {
      "cell_type": "code",
      "execution_count": 13,
      "id": "6aa74d46-bdff-42a7-a906-01e6745874b3",
      "metadata": {
        "id": "6aa74d46-bdff-42a7-a906-01e6745874b3"
      },
      "outputs": [],
      "source": []
    },
    {
      "cell_type": "markdown",
      "id": "3105ccb5-909e-4316-95c5-4b62b015fc7e",
      "metadata": {
        "id": "3105ccb5-909e-4316-95c5-4b62b015fc7e"
      },
      "source": [
        "# Pre processing"
      ]
    },
    {
      "cell_type": "markdown",
      "id": "9aa455eb-2272-4cb7-877d-2c3f0502c849",
      "metadata": {
        "id": "9aa455eb-2272-4cb7-877d-2c3f0502c849"
      },
      "source": [
        "### a/ Détection et alignement avec MTCNN"
      ]
    },
    {
      "cell_type": "code",
      "execution_count": 14,
      "id": "e34e2884-fd15-4b2c-a101-0dadf042889f",
      "metadata": {
        "id": "e34e2884-fd15-4b2c-a101-0dadf042889f"
      },
      "outputs": [],
      "source": [
        "# Détection et alignement avec MTCNN\n",
        "mtcnn = MTCNN(image_size=160, margin=20, keep_all=False, device=device)\n",
        "\n",
        "# Dataset personnalisé\n",
        "class FaceDataset(Dataset):\n",
        "    def __init__(self, image_folder, transform=None, fallback_transform=None):\n",
        "        self.image_folder = image_folder\n",
        "        self.transform = transform\n",
        "        self.fallback_transform = fallback_transform\n",
        "        self.image_paths = []\n",
        "        self.labels = []\n",
        "        self.class_to_idx = {}\n",
        "        # self.idx_to_class = {}\n",
        "\n",
        "        for idx, class_name in enumerate(os.listdir(image_folder)):\n",
        "            class_path = os.path.join(image_folder, class_name)\n",
        "            if os.path.isdir(class_path):\n",
        "                self.class_to_idx[class_name] = idx\n",
        "                for img_file in os.listdir(class_path):\n",
        "                    if img_file.endswith(('.jpg', '.png', '.jpeg')):\n",
        "                        self.image_paths.append(os.path.join(class_path, img_file))\n",
        "                        self.labels.append(idx)\n",
        "\n",
        "        self.num_classes = len(self.class_to_idx)\n",
        "        self.idx_to_class = {idx: name for name, idx in self.class_to_idx.items()}\n",
        "        self.class_names = [self.idx_to_class[i] for i in range(self.num_classes)]\n",
        "\n",
        "\n",
        "    def __len__(self):\n",
        "        return len(self.image_paths)\n",
        "\n",
        "    def __getitem__(self, idx):\n",
        "        img_path = self.image_paths[idx]\n",
        "        label = self.labels[idx]\n",
        "        img = Image.open(img_path).convert('RGB')\n",
        "\n",
        "        # Détection du visage :\n",
        "        face = mtcnn(img)\n",
        "\n",
        "        if face is None:\n",
        "          if self.fallback_transform:\n",
        "            face = self.fallback_transform(img)\n",
        "          else :\n",
        "            return self.__getitem__((idx + 1) % len(self))\n",
        "\n",
        "        if self.transform:\n",
        "            face = self.transform(face)\n",
        "\n",
        "        return face, label\n"
      ]
    },
    {
      "cell_type": "markdown",
      "id": "1a11251f-bc0d-4397-ba6f-183d1b99e8f5",
      "metadata": {
        "id": "1a11251f-bc0d-4397-ba6f-183d1b99e8f5"
      },
      "source": [
        "### b/ Pré-traitement et augmentation"
      ]
    },
    {
      "cell_type": "code",
      "execution_count": 15,
      "id": "cbd714b3-4390-435c-be9e-a8fbe46b142e",
      "metadata": {
        "id": "cbd714b3-4390-435c-be9e-a8fbe46b142e"
      },
      "outputs": [],
      "source": [
        "mean = [0.6071, 0.4609, 0.3944]\n",
        "std = [0.2457, 0.2175, 0.2129]\n",
        "\n",
        "fallback_transform = transforms.Compose([\n",
        "    transforms.Resize((160, 160)),\n",
        "    transforms.ToTensor()\n",
        "    ])\n",
        "\n",
        "transform_train = transforms.Compose([\n",
        "    # artificial data increasing :\n",
        "    transforms.RandomHorizontalFlip(),\n",
        "    transforms.RandomRotation(10),\n",
        "    # transforms.ColorJitter(brightness=0.2, contrast=0.2),\n",
        "    #transforms.ToTensor(),\n",
        "    #transforms.resize(160,160),\n",
        "    transforms.Normalize(mean=mean, std=std)\n",
        "])\n",
        "\n",
        "transform_val = transforms.Compose([\n",
        "    #transforms.ToTensor(),\n",
        "    #transforms.resize(160,160),\n",
        "    transforms.Normalize(mean=mean, std=std)\n",
        "])\n",
        "\n",
        "transform_test = transforms.Compose([\n",
        "    #transforms.ToTensor(),\n",
        "    #transforms.resize(160,160),\n",
        "    transforms.Normalize(mean=mean, std=std)\n",
        "])"
      ]
    },
    {
      "cell_type": "markdown",
      "id": "9f838037-805f-46b2-9dbf-7c882c82dfa3",
      "metadata": {
        "id": "9f838037-805f-46b2-9dbf-7c882c82dfa3"
      },
      "source": [
        "### c/ Creation des datasets et dataloader"
      ]
    },
    {
      "cell_type": "code",
      "execution_count": 16,
      "id": "186bfc00-1781-44ca-8f6c-ee16412c0fd2",
      "metadata": {
        "id": "186bfc00-1781-44ca-8f6c-ee16412c0fd2"
      },
      "outputs": [],
      "source": [
        "train_dataset = FaceDataset(image_folder='/content/drive/MyDrive/Data_science/PROJET_perso/facial_recognition_project-main-Backend-data/Backend/data/lfw_01_train', transform=transform_train) # , fallback_transform=fallback_transform\n",
        "val_dataset = FaceDataset(image_folder='/content/drive/MyDrive/Data_science/PROJET_perso/facial_recognition_project-main-Backend-data/Backend/data/lfw_02_val', transform=transform_val) # , fallback_transform=fallback_transform\n",
        "test_dataset = FaceDataset(image_folder='/content/drive/MyDrive/Data_science/PROJET_perso/facial_recognition_project-main-Backend-data/Backend/data/lfw_03_test', transform=transform_test) # , fallback_transform=fallback_transform\n",
        "\n",
        "train_loader = DataLoader(train_dataset, batch_size=32, shuffle=True)\n",
        "val_loader = DataLoader(val_dataset, batch_size=32)\n",
        "test_loader = DataLoader(test_dataset, batch_size=32)\n"
      ]
    },
    {
      "cell_type": "markdown",
      "id": "1120c982-e127-4761-9bd6-cacd3eea9a42",
      "metadata": {
        "id": "1120c982-e127-4761-9bd6-cacd3eea9a42"
      },
      "source": [
        "# Fine-tuning"
      ]
    },
    {
      "cell_type": "markdown",
      "id": "f8d0979b-1e6f-4736-97a5-d1094c2efba0",
      "metadata": {
        "id": "f8d0979b-1e6f-4736-97a5-d1094c2efba0"
      },
      "source": [
        "### a/ import model"
      ]
    },
    {
      "cell_type": "code",
      "execution_count": 17,
      "id": "91712e0d-a288-491c-ba4c-1ef3efc4d7a8",
      "metadata": {
        "id": "91712e0d-a288-491c-ba4c-1ef3efc4d7a8"
      },
      "outputs": [],
      "source": [
        "# Créer le modèle en ajoutant une tete de classif :\n",
        "class FaceClassifier(nn.Module):\n",
        "    def __init__(self, base_model, num_classes):\n",
        "        super(FaceClassifier, self).__init__()\n",
        "        self.base = base_model # deepcopy(base_model)\n",
        "\n",
        "        # Ajout tete de classification :\n",
        "        self.classifier = nn.Linear(512, num_classes)\n",
        "\n",
        "        # # modify classif head :\n",
        "        # self.base.logits = nn.Linear(512, num_classes)\n",
        "\n",
        "    def forward(self, x):\n",
        "        x = self.base(x)\n",
        "        return self.classifier(x)\n",
        "        # return self.base.logits(x)\n",
        "\n",
        "\n",
        "# instanciate the model :\n",
        "num_classes = train_dataset.num_classes\n",
        "base_model = InceptionResnetV1(pretrained='vggface2', classify=False)\n",
        "# base_model.classifier = nn.Linear(512, num_classes)\n",
        "model = FaceClassifier(base_model, num_classes)"
      ]
    },
    {
      "cell_type": "code",
      "execution_count": 17,
      "id": "5df1749e-aebd-4895-9908-b6edd44a9195",
      "metadata": {
        "id": "5df1749e-aebd-4895-9908-b6edd44a9195"
      },
      "outputs": [],
      "source": []
    },
    {
      "cell_type": "markdown",
      "id": "b2ada75a-7598-4eca-a092-c283214698db",
      "metadata": {
        "id": "b2ada75a-7598-4eca-a092-c283214698db"
      },
      "source": [
        "### b/ train"
      ]
    },
    {
      "cell_type": "code",
      "execution_count": 18,
      "id": "5dfe3a73-7c97-4952-a1de-88b17891dcda",
      "metadata": {
        "id": "5dfe3a73-7c97-4952-a1de-88b17891dcda"
      },
      "outputs": [],
      "source": [
        "def train_model(model, train_loader, val_loader, num_epochs=20, patience=5, save_path=\"/content/drive/MyDrive/Data_science/PROJET_perso/facial_recognition_project-main-Backend-data/Backend/model/best_fc_param.pt\"):\n",
        "    device = torch.device(\"cuda\" if torch.cuda.is_available() else \"cpu\")\n",
        "    model = model.to(device)\n",
        "    optimizer = optim.Adam(model.parameters(), lr=1e-4)\n",
        "    criterion = nn.CrossEntropyLoss()\n",
        "\n",
        "    best_f1 = 0\n",
        "    epochs_no_improve = 0\n",
        "\n",
        "    for epoch in range(num_epochs):\n",
        "        # train\n",
        "        model.train()\n",
        "        for images, labels in train_loader:\n",
        "            images, labels = images.to(device), labels.to(device)\n",
        "            outputs = model(images)\n",
        "            loss = criterion(outputs, labels)\n",
        "\n",
        "            optimizer.zero_grad()\n",
        "            loss.backward()\n",
        "            optimizer.step()\n",
        "\n",
        "        # Validation\n",
        "        model.eval()\n",
        "        all_preds = []\n",
        "        all_labels = []\n",
        "        with torch.no_grad():\n",
        "            for images, labels in val_loader:\n",
        "                images, labels = images.to(device), labels.to(device)\n",
        "                outputs = model(images)\n",
        "                preds = torch.argmax(outputs, dim=1)\n",
        "                all_preds.extend(preds.cpu().numpy())\n",
        "                all_labels.extend(labels.cpu().numpy())\n",
        "\n",
        "        f1 = f1_score(all_labels, all_preds, average='macro')\n",
        "        print(f\"Epoch {epoch+1} - F1-score: {f1:.4f}\")\n",
        "\n",
        "        # Early stopping\n",
        "        if f1 > best_f1:\n",
        "            best_f1 = f1\n",
        "            epochs_no_improve = 0\n",
        "            torch.save(model.state_dict(), save_path)\n",
        "            print(\"Nouveau meilleur modèle sauvegardé !\")\n",
        "        else:\n",
        "            epochs_no_improve += 1\n",
        "            if epochs_no_improve >= patience:\n",
        "                print(\"Early stopping\")\n",
        "                break\n",
        "\n",
        "    print(\"Entraînement terminé. Meilleur F1-score :\", best_f1)\n"
      ]
    },
    {
      "cell_type": "code",
      "execution_count": 21,
      "id": "72ef027e-bb67-40ea-9caa-ba0bcf5a74c2",
      "metadata": {
        "colab": {
          "base_uri": "https://localhost:8080/"
        },
        "id": "72ef027e-bb67-40ea-9caa-ba0bcf5a74c2",
        "outputId": "7b39bcd2-f66c-4b7b-8088-df245b8c7092"
      },
      "outputs": [
        {
          "output_type": "stream",
          "name": "stdout",
          "text": [
            "Epoch 1 - F1-score: 0.1827\n",
            "Nouveau meilleur modèle sauvegardé !\n",
            "Epoch 2 - F1-score: 0.2177\n",
            "Nouveau meilleur modèle sauvegardé !\n",
            "Epoch 3 - F1-score: 0.2057\n",
            "Epoch 4 - F1-score: 0.2077\n",
            "Epoch 5 - F1-score: 0.2057\n",
            "Epoch 6 - F1-score: 0.2057\n",
            "Epoch 7 - F1-score: 0.2063\n",
            "Early stopping\n",
            "Entraînement terminé. Meilleur F1-score : 0.21766666666666665\n"
          ]
        }
      ],
      "source": [
        "train_model(model, train_loader, val_loader, num_epochs=10, patience=5)"
      ]
    },
    {
      "cell_type": "code",
      "source": [
        "eee"
      ],
      "metadata": {
        "colab": {
          "base_uri": "https://localhost:8080/",
          "height": 141
        },
        "id": "4tJz-udgvGdg",
        "outputId": "25c57fb3-a722-4adf-97a7-bb04ce7c7164"
      },
      "id": "4tJz-udgvGdg",
      "execution_count": 20,
      "outputs": [
        {
          "output_type": "error",
          "ename": "NameError",
          "evalue": "name 'eee' is not defined",
          "traceback": [
            "\u001b[0;31m---------------------------------------------------------------------------\u001b[0m",
            "\u001b[0;31mNameError\u001b[0m                                 Traceback (most recent call last)",
            "\u001b[0;32m<ipython-input-20-a032114ae685>\u001b[0m in \u001b[0;36m<cell line: 0>\u001b[0;34m()\u001b[0m\n\u001b[0;32m----> 1\u001b[0;31m \u001b[0meee\u001b[0m\u001b[0;34m\u001b[0m\u001b[0;34m\u001b[0m\u001b[0m\n\u001b[0m",
            "\u001b[0;31mNameError\u001b[0m: name 'eee' is not defined"
          ]
        }
      ]
    },
    {
      "cell_type": "markdown",
      "id": "25ed62d2-b632-4d3d-b514-673ac998006a",
      "metadata": {
        "id": "25ed62d2-b632-4d3d-b514-673ac998006a"
      },
      "source": [
        "# Evaluate model on test set (tester si c'est le f1 = f1_score(all_labels, all_preds, average=\"macro\") # 'macro' qui deconne)"
      ]
    },
    {
      "cell_type": "code",
      "execution_count": null,
      "id": "a26c32f2-2887-492e-ab5f-c301e832fb2d",
      "metadata": {
        "id": "a26c32f2-2887-492e-ab5f-c301e832fb2d"
      },
      "outputs": [],
      "source": [
        "def evaluate_model(model, test_loader, checkpoint_path, class_names):\n",
        "    device = torch.device(\"cuda\" if torch.cuda.is_available() else \"cpu\")\n",
        "    model.load_state_dict(torch.load(checkpoint_path))\n",
        "    model = model.to(device)\n",
        "    model.eval()\n",
        "\n",
        "    all_preds = []\n",
        "    all_labels = []\n",
        "\n",
        "    with torch.no_grad():\n",
        "        for images, labels in test_loader:\n",
        "            images, labels = images.to(device), labels.to(device)\n",
        "            outputs = model(images)\n",
        "            preds = torch.argmax(outputs, dim=1)\n",
        "            all_preds.extend(preds.cpu().numpy())\n",
        "            all_labels.extend(labels.cpu().numpy())\n",
        "\n",
        "    # f1 = f1_score(all_labels, all_preds, average=\"macro\") # 'macro'\n",
        "    #print(f\"F1-score (test set): {f1:.4f}\")\n",
        "    print(classification_report(all_labels, all_preds, target_names=class_names))\n",
        "\n",
        "    # return f1\n"
      ]
    },
    {
      "cell_type": "code",
      "execution_count": null,
      "id": "eb91bd62-d716-4e1e-9651-3bb6b9c3e57d",
      "metadata": {
        "scrolled": true,
        "id": "eb91bd62-d716-4e1e-9651-3bb6b9c3e57d"
      },
      "outputs": [],
      "source": [
        "evaluate_model(model, test_loader, \"/content/drive/MyDrive/Data_science/PROJET_perso/facial_recognition_project-main-Backend-data/Backend/model/best_fc_param.pt\", train_dataset.class_names)"
      ]
    },
    {
      "cell_type": "code",
      "execution_count": null,
      "id": "02beeed6-9395-4a18-9126-8961c4c95e76",
      "metadata": {
        "id": "02beeed6-9395-4a18-9126-8961c4c95e76"
      },
      "outputs": [],
      "source": [
        "eeeeeeeeeeee"
      ]
    },
    {
      "cell_type": "markdown",
      "id": "4243e0d3-d45b-4a4b-92be-aa85dc328fea",
      "metadata": {
        "id": "4243e0d3-d45b-4a4b-92be-aa85dc328fea"
      },
      "source": [
        "# Save model (ones the evaluation score is good)"
      ]
    },
    {
      "cell_type": "code",
      "execution_count": null,
      "id": "84cd078d-8532-48f8-838f-dd24c1e5f749",
      "metadata": {
        "id": "84cd078d-8532-48f8-838f-dd24c1e5f749"
      },
      "outputs": [],
      "source": [
        "# Sauvegarde complète du modèle (architecture + poids)\n",
        "torch.save(model, \"/content/drive/MyDrive/Data_science/PROJET_perso/facial_recognition_project-main-Backend-data/Backend/model/best_fc_model.pt\")"
      ]
    },
    {
      "cell_type": "code",
      "execution_count": null,
      "id": "8b938348-357e-4266-91ab-d571c930e909",
      "metadata": {
        "id": "8b938348-357e-4266-91ab-d571c930e909"
      },
      "outputs": [],
      "source": []
    },
    {
      "cell_type": "markdown",
      "id": "af8861dc-598e-4cd4-870a-d0c7b3331865",
      "metadata": {
        "id": "af8861dc-598e-4cd4-870a-d0c7b3331865"
      },
      "source": [
        "# Test model on one example picture"
      ]
    },
    {
      "cell_type": "code",
      "execution_count": null,
      "id": "0239648c-5310-421d-a535-77f192d25660",
      "metadata": {
        "scrolled": true,
        "id": "0239648c-5310-421d-a535-77f192d25660"
      },
      "outputs": [],
      "source": [
        "# load image :\n",
        "img = Image.open('/content/drive/MyDrive/Data_science/PROJET_perso/facial_recognition_project-main-Backend-data/Backend/data/lfw-deepfunneled/Fujio_Cho/Fujio_Cho_0004.jpg').convert('RGB')\n",
        "img"
      ]
    },
    {
      "cell_type": "code",
      "execution_count": null,
      "id": "9970dce7-5586-4e4e-985d-95b40c04cf7b",
      "metadata": {
        "scrolled": true,
        "id": "9970dce7-5586-4e4e-985d-95b40c04cf7b"
      },
      "outputs": [],
      "source": [
        "# load model :\n",
        "best_model = torch.load(\"./content/drive/MyDrive/Data_science/PROJET_perso/facial_recognition_project-main-Backend-data/Backend/model/best_fc_model.pt\")\n",
        "best_model.eval()"
      ]
    },
    {
      "cell_type": "code",
      "execution_count": null,
      "id": "545f2284-7dcb-4bba-af46-980cedc2821d",
      "metadata": {
        "scrolled": true,
        "id": "545f2284-7dcb-4bba-af46-980cedc2821d"
      },
      "outputs": [],
      "source": [
        "train_dataset.idx_to_class"
      ]
    },
    {
      "cell_type": "code",
      "execution_count": null,
      "id": "427ab857-e460-461a-a07f-b406e47a8e76",
      "metadata": {
        "id": "427ab857-e460-461a-a07f-b406e47a8e76"
      },
      "outputs": [],
      "source": [
        "# pre processing parameters :\n",
        "mean = [0.6071, 0.4609, 0.3944]\n",
        "std = [0.2457, 0.2175, 0.2129]\n",
        "\n",
        "fallback_transform = transforms.Compose([\n",
        "    transforms.Resize((160, 160)),\n",
        "    transforms.ToTensor()\n",
        "    ])\n",
        "\n",
        "transform = transforms.Compose([\n",
        "    # transforms.ToTensor(),\n",
        "    transforms.Normalize(mean=[0.5], std=[0.5])\n",
        "])\n",
        "\n",
        "# Load Face detection model :\n",
        "mtcnn = MTCNN(image_size=160, device=device)\n",
        "\n",
        "# dict_class_name :\n",
        "dict_class_names = train_dataset.idx_to_class\n",
        "\n",
        "\n",
        "\n",
        "# predict :\n",
        "def predict(image_path, model, dict_class_names):\n",
        "    image = Image.open(image_path).convert('RGB')\n",
        "    face = mtcnn(image)\n",
        "    if face is None:\n",
        "        face = self.fallback_transform(image)\n",
        "        print(\"Aucun visage détecté par MTCNN\")\n",
        "\n",
        "    face = transform(face).unsqueeze(0)  # [1, 3, 160, 160]\n",
        "    face = face.to(next(model.parameters()).device)\n",
        "\n",
        "    with torch.no_grad():\n",
        "        outputs = model(face)\n",
        "        predicted = torch.argmax(outputs, dim=1).item()\n",
        "\n",
        "    print(f\"Prédiction : {dict_class_names[predicted]}\")\n",
        "    return predicted"
      ]
    },
    {
      "cell_type": "code",
      "execution_count": null,
      "id": "47eadc27-ff58-46fb-b528-cec273b9ca32",
      "metadata": {
        "id": "47eadc27-ff58-46fb-b528-cec273b9ca32"
      },
      "outputs": [],
      "source": [
        "predict('/content/drive/MyDrive/Data_science/PROJET_perso/facial_recognition_project-main-Backend-data/Backend/data/lfw-deepfunneled/Fujio_Cho/Fujio_Cho_0004.jpg', best_model, dict_class_names)"
      ]
    },
    {
      "cell_type": "code",
      "execution_count": null,
      "id": "1a0c5ad5-35f8-4a5d-af73-43c682fc01d2",
      "metadata": {
        "id": "1a0c5ad5-35f8-4a5d-af73-43c682fc01d2"
      },
      "outputs": [],
      "source": []
    }
  ],
  "metadata": {
    "kernelspec": {
      "display_name": "Python 3",
      "name": "python3"
    },
    "language_info": {
      "codemirror_mode": {
        "name": "ipython",
        "version": 3
      },
      "file_extension": ".py",
      "mimetype": "text/x-python",
      "name": "python",
      "nbconvert_exporter": "python",
      "pygments_lexer": "ipython3",
      "version": "3.10.0"
    },
    "colab": {
      "provenance": [],
      "gpuType": "T4"
    },
    "accelerator": "GPU"
  },
  "nbformat": 4,
  "nbformat_minor": 5
}